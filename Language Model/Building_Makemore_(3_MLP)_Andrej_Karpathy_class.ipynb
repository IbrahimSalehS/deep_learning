{
  "nbformat": 4,
  "nbformat_minor": 0,
  "metadata": {
    "colab": {
      "provenance": []
    },
    "kernelspec": {
      "name": "python3",
      "display_name": "Python 3"
    },
    "language_info": {
      "name": "python"
    }
  },
  "cells": [
    {
      "cell_type": "code",
      "execution_count": null,
      "metadata": {
        "id": "7-rgKChg_pj5",
        "colab": {
          "base_uri": "https://localhost:8080/"
        },
        "outputId": "97ea3907-96b3-4704-ce64-3e79e66f8f72"
      },
      "outputs": [
        {
          "output_type": "stream",
          "name": "stdout",
          "text": [
            "--2023-09-07 08:46:14--  https://raw.githubusercontent.com/karpathy/makemore/master/names.txt\n",
            "Resolving raw.githubusercontent.com (raw.githubusercontent.com)... 185.199.109.133, 185.199.108.133, 185.199.110.133, ...\n",
            "Connecting to raw.githubusercontent.com (raw.githubusercontent.com)|185.199.109.133|:443... connected.\n",
            "HTTP request sent, awaiting response... 200 OK\n",
            "Length: 228145 (223K) [text/plain]\n",
            "Saving to: ‘names.txt’\n",
            "\n",
            "names.txt           100%[===================>] 222.80K  --.-KB/s    in 0.04s   \n",
            "\n",
            "2023-09-07 08:46:14 (6.00 MB/s) - ‘names.txt’ saved [228145/228145]\n",
            "\n"
          ]
        }
      ],
      "source": [
        "!wget https://raw.githubusercontent.com/karpathy/makemore/master/names.txt"
      ]
    },
    {
      "cell_type": "code",
      "source": [
        "dir = r'/content/'\n",
        "words = open(dir+'/names.txt','r').read().splitlines()\n",
        "words[:3]"
      ],
      "metadata": {
        "colab": {
          "base_uri": "https://localhost:8080/"
        },
        "id": "1uV6XHxPAw4W",
        "outputId": "b9c4d6b1-5918-408f-f428-38f5d6c03878"
      },
      "execution_count": null,
      "outputs": [
        {
          "output_type": "execute_result",
          "data": {
            "text/plain": [
              "['emma', 'olivia', 'ava']"
            ]
          },
          "metadata": {},
          "execution_count": 6
        }
      ]
    },
    {
      "cell_type": "code",
      "source": [
        "import torch\n",
        "import torch.nn.functional as F\n",
        "import matplotlib.pyplot as plt\n",
        "import random"
      ],
      "metadata": {
        "id": "g-U7uMuLJm1l"
      },
      "execution_count": null,
      "outputs": []
    },
    {
      "cell_type": "code",
      "source": [
        "# Build Vocabulary of characters and mapping to/from integers\n",
        "chars = sorted(list(set(''.join(words))))\n",
        "stoi = {s:i+1 for i,s in enumerate(chars)}\n",
        "stoi['.'] = 0\n",
        "itos = {i:s for s,i in stoi.items()}\n",
        "print(len(itos))"
      ],
      "metadata": {
        "id": "Q39qxicATYOI"
      },
      "execution_count": null,
      "outputs": []
    },
    {
      "cell_type": "code",
      "source": [
        "#create training set (x,y)\n",
        "def build_dataset(words):\n",
        "    block_size = 3 # berapa karakter pendahulu yang dipakai untuk memprediksi karakter setelahnya\n",
        "    X, Y = [], []\n",
        "    for w in words:\n",
        "        #print(w)\n",
        "        context = [0] * block_size\n",
        "        for ch in w + '.':\n",
        "            ix = stoi[ch]\n",
        "            X.append(context)\n",
        "            Y.append(ix)\n",
        "            #print(''.join(itos[i] for i in context) , ' ---> ',itos[ix])\n",
        "            context = context[1:] + [ix]\n",
        "    X = torch.tensor(X)\n",
        "    Y = torch.tensor(Y)\n",
        "    return X,Y"
      ],
      "metadata": {
        "id": "lR3TbO9bAuMa"
      },
      "execution_count": null,
      "outputs": []
    },
    {
      "cell_type": "code",
      "source": [
        "#Splitting Data Train, Dev, Test (80%, 10%, 10%)\n",
        "import random\n",
        "random.seed(42)\n",
        "random.shuffle(words)\n",
        "n1 = int(0.8 * len(words))\n",
        "n2 = int(0.9* len(words))\n",
        "\n",
        "X_tr, Y_tr = build_dataset(words[:n1])\n",
        "X_dev, Y_dev = build_dataset(words[n1:n2])\n",
        "X_te, Y_te = build_dataset(words[n2:])"
      ],
      "metadata": {
        "id": "EcrOuUmHo3G8"
      },
      "execution_count": null,
      "outputs": []
    },
    {
      "cell_type": "code",
      "source": [
        "print(X_tr.shape,Y_tr.shape)\n",
        "print(X_dev.shape,Y_dev.shape)\n",
        "print(X_te.shape,Y_te.shape)"
      ],
      "metadata": {
        "colab": {
          "base_uri": "https://localhost:8080/"
        },
        "id": "yR6TTEBKYYPt",
        "outputId": "7b7d65ce-5a24-4908-dc31-8f918efb1130"
      },
      "execution_count": null,
      "outputs": [
        {
          "output_type": "stream",
          "name": "stdout",
          "text": [
            "torch.Size([182424, 3]) torch.Size([182424])\n",
            "torch.Size([22836, 3]) torch.Size([22836])\n",
            "torch.Size([22886, 3]) torch.Size([22886])\n"
          ]
        }
      ]
    },
    {
      "cell_type": "code",
      "source": [
        "g = torch.Generator().manual_seed(2147483647)"
      ],
      "metadata": {
        "id": "xJxaA3dDjYWr"
      },
      "execution_count": null,
      "outputs": []
    },
    {
      "cell_type": "code",
      "source": [
        "#C adalah embedding vektor dimana tiap karakter akan di proyeksikan ke dalam vektor C\n",
        "C = torch.randn((27,10), generator = g, requires_grad=True)\n",
        "#tensor emb memiliki dimensi (32,3,2) yang menggambarkan:\n",
        "# 32 : jumlah data latih X, setelah dilakukan slicing sesuai ukuran batch size (ini bisa berubah tergantung jumlah datanya)\n",
        "# 3  : jumlah karakter(block_size)\n",
        "# 2  : jumlah dimensi embeddingnya, dalam contoh ini di embed ke 10 dimensi"
      ],
      "metadata": {
        "id": "WqGsSRrETQk3"
      },
      "execution_count": null,
      "outputs": []
    },
    {
      "cell_type": "code",
      "source": [
        "#inisiasi parameter\n",
        "\n",
        "W1 = torch.randn((30,200),generator = g, requires_grad=True)\n",
        "b1 = torch.randn(200, generator = g, requires_grad=True)\n",
        "W2 = torch.randn((200,27), generator = g, requires_grad=True)\n",
        "b2 = torch.randn(27, generator = g, requires_grad=True)\n",
        "parameters = [C,W1,b1,W2,b2]\n",
        "print(f'jumlah parameter :  {sum(p.nelement() for p in parameters)}')"
      ],
      "metadata": {
        "colab": {
          "base_uri": "https://localhost:8080/"
        },
        "id": "_tKWveNjeDUV",
        "outputId": "e32c6e04-e4b9-40ae-e571-81c798241907"
      },
      "execution_count": null,
      "outputs": [
        {
          "output_type": "stream",
          "name": "stdout",
          "text": [
            "jumlah parameter :  11897\n"
          ]
        }
      ]
    },
    {
      "cell_type": "markdown",
      "source": [
        "    \n",
        "    #menghitung NLL :\n",
        "    # hitung softmax dari logit sebagai probability distribusi dari semua kemungkinan output\n",
        "    # ambil nilai probabilitas memprediksi nilai Y untuk tiap baris data\n",
        "    # disini kita menginginkan nilai prob untuk tiap2 baris data pada index ke Y mendekati 1 (memaksimalkan nilai probabilitas pada Y)\n",
        "    # hitung log kemudian rata2nya\n",
        "    # untuk mengubah arah pencarian menjadi mencari nilai minimal kalikan dengan -1\n"
      ],
      "metadata": {
        "id": "Z99OHhqfzoEX"
      }
    },
    {
      "cell_type": "markdown",
      "source": [
        "Mini Batch Gradient Descent"
      ],
      "metadata": {
        "id": "g-BPWwjhZRf7"
      }
    },
    {
      "cell_type": "markdown",
      "source": [
        "Finding good learning rate"
      ],
      "metadata": {
        "id": "kSLrGol6dm2q"
      }
    },
    {
      "cell_type": "code",
      "source": [
        "learning_rate = 0.1\n",
        "batch_size = 32\n",
        "lri = torch.linspace(-3,0, 1000)\n",
        "lrs = 10**lri\n",
        "\n",
        "lr_track = []\n",
        "loss_track = []\n",
        "steps = []"
      ],
      "metadata": {
        "id": "c0tJNdDhHRdv"
      },
      "execution_count": null,
      "outputs": []
    },
    {
      "cell_type": "code",
      "source": [
        "for step in range(200000):\n",
        "\n",
        "    # construct mini batch\n",
        "    ix = torch.randint(0,X_tr.shape[0],(32,))\n",
        "\n",
        "    #forward pass\n",
        "    emb = C[X_tr[ix]]\n",
        "    h = torch.tanh(emb.view(-1,30) @ W1 + b1)\n",
        "    logits = h @ W2 + b2\n",
        "    #loss\n",
        "    loss = F.cross_entropy(logits,Y_tr[ix])\n",
        "    #backward pass\n",
        "\n",
        "    #set zero grad on parameters\n",
        "    for p in parameters:\n",
        "        p.grad = None\n",
        "    #backward\n",
        "    loss.backward(retain_graph=True)\n",
        "    #update parameters\n",
        "    learning_rate = 0.1 if step < 100000 else 0.01\n",
        "    for p in parameters:\n",
        "        p.data += -(p.grad * learning_rate)\n",
        "\n",
        "    if step%50000 == 0:\n",
        "        print(f'iterasi ke {step} -- loss : {loss.item()}')\n",
        "\n",
        "    steps.append(step)\n",
        "    loss_track.append(loss.log10().item())\n",
        "\n"
      ],
      "metadata": {
        "colab": {
          "base_uri": "https://localhost:8080/"
        },
        "id": "ogoPbYjFduJC",
        "outputId": "745b33e8-b189-487a-fd16-740e18b29c45"
      },
      "execution_count": null,
      "outputs": [
        {
          "output_type": "stream",
          "name": "stdout",
          "text": [
            "iterasi ke 0 -- loss : 27.39688491821289\n",
            "iterasi ke 50000 -- loss : 2.6834473609924316\n",
            "iterasi ke 100000 -- loss : 2.2652103900909424\n",
            "iterasi ke 150000 -- loss : 2.224513292312622\n"
          ]
        }
      ]
    },
    {
      "cell_type": "code",
      "source": [
        "plt.plot(steps, loss_track)"
      ],
      "metadata": {
        "colab": {
          "base_uri": "https://localhost:8080/",
          "height": 447
        },
        "id": "pI_rZvfbDx0E",
        "outputId": "82a79b53-badd-42bd-fb28-aaa6f1b9c04f"
      },
      "execution_count": null,
      "outputs": [
        {
          "output_type": "execute_result",
          "data": {
            "text/plain": [
              "[<matplotlib.lines.Line2D at 0x7f569f661a80>]"
            ]
          },
          "metadata": {},
          "execution_count": 140
        },
        {
          "output_type": "display_data",
          "data": {
            "text/plain": [
              "<Figure size 640x480 with 1 Axes>"
            ],
            "image/png": "[encoded data removed]"
          },
          "metadata": {}
        }
      ]
    },
    {
      "cell_type": "code",
      "source": [
        "    #NIlai loss atas train data\n",
        "    emb_tr = C[X_tr]\n",
        "    h = torch.tanh(emb_tr.view((-1,30)) @ W1 + b1)\n",
        "    logits = h @ W2 + b2\n",
        "    loss = F.cross_entropy(logits,Y_tr)\n",
        "    print(loss.item())\n",
        "    acc = sum(F.softmax(logits, dim=1).argmax(dim=1) == Y_tr)/Y_tr.shape[0]\n",
        "    print(f'accuracy : {acc}')"
      ],
      "metadata": {
        "colab": {
          "base_uri": "https://localhost:8080/"
        },
        "id": "Q6mq006O79ig",
        "outputId": "4348e5f5-cbac-46d6-decb-bed7bade2bc6"
      },
      "execution_count": null,
      "outputs": [
        {
          "output_type": "stream",
          "name": "stdout",
          "text": [
            "2.1264262199401855\n",
            "accuracy : 0.3360961377620697\n"
          ]
        }
      ]
    },
    {
      "cell_type": "code",
      "source": [
        "    #NIlai loss atas dev data\n",
        "    emb_dev = C[X_dev]\n",
        "    emb_dev  = emb_dev.view((-1,30))\n",
        "\n",
        "    h = torch.tanh(emb_dev @ W1 + b1)\n",
        "    logits = h @ W2 + b2\n",
        "    loss = F.cross_entropy(logits,Y_dev)\n",
        "    print(loss.item())\n",
        "    acc = sum(F.softmax(logits, dim=1).argmax(dim=1) == Y_dev)/Y_dev.shape[0]\n",
        "    print(f'accuracy : {acc}')"
      ],
      "metadata": {
        "colab": {
          "base_uri": "https://localhost:8080/"
        },
        "id": "LjS4Prx7hXhW",
        "outputId": "ca923f4c-b5e3-45ae-dda1-86fb2f2ef48d"
      },
      "execution_count": null,
      "outputs": [
        {
          "output_type": "stream",
          "name": "stdout",
          "text": [
            "2.16919207572937\n",
            "accuracy : 0.3261078894138336\n"
          ]
        }
      ]
    },
    {
      "cell_type": "markdown",
      "source": [
        "Dari plot Learning Rate vs Loss kita bisa menentukan nilai Learning rate yang paling baik dalam kasus ini mungkin di angka 10**-1\n",
        "\n",
        "setelah 10000 step, coba turunkan learning ratenya menjadi 10**-2 (Langkah ini disebut juga Learning Rate Decay)"
      ],
      "metadata": {
        "id": "0BS3ipbtgHNh"
      }
    },
    {
      "cell_type": "code",
      "source": [
        "plt.figure(figsize = (8,8))\n",
        "plt.scatter(C[:,0].data, C[:,1].data, s = 200)\n",
        "for i in range(C.shape[0]):\n",
        "    plt.text(C[i,0].item(), C[i,1].item(), itos[i], ha='center', color = 'white')\n",
        "plt.grid('minor')"
      ],
      "metadata": {
        "colab": {
          "base_uri": "https://localhost:8080/",
          "height": 676
        },
        "id": "EgnR1TCIE8py",
        "outputId": "0d5c6bab-1cd4-4228-f6c3-08b9f351e40c"
      },
      "execution_count": null,
      "outputs": [
        {
          "output_type": "display_data",
          "data": {
            "text/plain": [
              "<Figure size 800x800 with 1 Axes>"
            ],
            "image/png": "[encoded data removed]"
          },
          "metadata": {}
        }
      ]
    },
    {
      "cell_type": "code",
      "source": [
        "#Geenerate sample from model\n",
        "\n",
        "g = torch.Generator().manual_seed(2147483647)\n",
        "\n",
        "for i in range(20):\n",
        "    out = []\n",
        "    context = [0] * 3\n",
        "    while True:\n",
        "        #forward pass\n",
        "        emb = C[torch.tensor([context])]\n",
        "        h = torch.tanh(emb.view(1,-1) @ W1 + b1)\n",
        "        logits = h @ W2 + b2\n",
        "        probs = F.softmax(logits, dim=1)\n",
        "        #sample from the distribution\n",
        "        ix = torch.multinomial(probs, num_samples = 1, generator = g).item()\n",
        "        #shift the context window and track the samples\n",
        "        context = context[1:] + [ix]\n",
        "        out.append(ix)\n",
        "        # if we meet the special '.' token, break\n",
        "        if ix == 0:\n",
        "            break\n",
        "    print(''.join(itos[i] for i in out))\n"
      ],
      "metadata": {
        "colab": {
          "base_uri": "https://localhost:8080/"
        },
        "id": "NCdPtMyMFjH-",
        "outputId": "9b82218e-52fe-46df-8147-0e5c8ec8b5ca"
      },
      "execution_count": null,
      "outputs": [
        {
          "output_type": "stream",
          "name": "stdout",
          "text": [
            "junide.\n",
            "janasia.\n",
            "palynn.\n",
            "alin.\n",
            "kai.\n",
            "rito.\n",
            "cassathe.\n",
            "kalania.\n",
            "zamilena.\n",
            "jadedaile.\n",
            "ambressiyanayla.\n",
            "teziavaumeryn.\n",
            "demmer.\n",
            "ginsleigh.\n",
            "ani.\n",
            "core.\n",
            "yae.\n",
            "ocelynn.\n",
            "brine.\n",
            "keiki.\n"
          ]
        }
      ]
    },
    {
      "cell_type": "code",
      "source": [],
      "metadata": {
        "id": "SmqgYtKzQOf8"
      },
      "execution_count": null,
      "outputs": []
    }
  ]
}