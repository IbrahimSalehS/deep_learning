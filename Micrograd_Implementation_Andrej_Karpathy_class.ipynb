{
  "nbformat": 4,
  "nbformat_minor": 0,
  "metadata": {
    "colab": {
      "provenance": []
    },
    "kernelspec": {
      "name": "python3",
      "display_name": "Python 3"
    },
    "language_info": {
      "name": "python"
    }
  },
  "cells": [
    {
      "cell_type": "code",
      "execution_count": null,
      "metadata": {
        "id": "kED60o8Pm-rd"
      },
      "outputs": [],
      "source": [
        "import math\n",
        "import numpy as np\n",
        "import matplotlib.pyplot as plt\n",
        "%matplotlib inline"
      ]
    },
    {
      "cell_type": "code",
      "source": [
        "class Value:\n",
        "    def __init__(self,data, _children = (), _op = '', label = ''):\n",
        "        '''children :  digunakan untuk tracking nilai yang mendahului nilai sekarang\n",
        "            op  : operasi yang dilakukan atas value pada prev yang membentuk nilai saat ini'''\n",
        "        self.data = data\n",
        "        self._prev = set(_children)\n",
        "        self._op = _op\n",
        "        self.label = label\n",
        "        self.grad = 0.0\n",
        "        self._backward = lambda:None\n",
        "\n",
        "    def __repr__(self):\n",
        "        return f\"Value(data={self.data})\"\n",
        "\n",
        "    def __add__(self,other):\n",
        "        other = other if isinstance(other,Value) else Value(other)\n",
        "        out = Value(self.data + other.data, (self, other), '+')\n",
        "        def _backward():\n",
        "            #chain rule\n",
        "            self.grad += 1.0 * out.grad\n",
        "            other.grad += 1.0 * out.grad\n",
        "        out._backward = _backward\n",
        "        return out\n",
        "\n",
        "    def __mul__(self, other):\n",
        "        other = other if isinstance(other,Value) else Value(other)\n",
        "        out = Value(self.data * other.data , (self, other), '*')\n",
        "        def _backward():\n",
        "            #chain rule\n",
        "            self.grad += out.grad * other.data\n",
        "            other.grad += out.grad * self.data\n",
        "        out._backward = _backward\n",
        "        return out\n",
        "\n",
        "\n",
        "    def __rmul__(self, other): # other * self\n",
        "        return self * other\n",
        "\n",
        "    def __truediv__(self, other): # self / other\n",
        "        return self * other**-1\n",
        "\n",
        "    def __neg__(self): # -self\n",
        "        return self * -1\n",
        "\n",
        "    def __sub__(self, other): # self - other\n",
        "        return self + (-other)\n",
        "\n",
        "    def __radd__(self, other): # other + self\n",
        "        return self + other\n",
        "\n",
        "    def exp(self):\n",
        "        x  = self.data\n",
        "        out = Value(math.exp(x), (self,),  'exp')\n",
        "        def _backward():\n",
        "            #chain rule\n",
        "            self.grad += out.data * out.grad\n",
        "        out._backward = _backward\n",
        "        return out\n",
        "\n",
        "    def __pow__(self,other):\n",
        "        assert isinstance(other, (int,float)) , 'only suporting int/float powers for now'\n",
        "        out = Value(self.data**other, (self, ), f'**{other}')\n",
        "        def _backward():\n",
        "            self.grad += other * (self.data ** (other - 1)) * out.grad\n",
        "        out._backward = _backward\n",
        "        return out\n",
        "\n",
        "\n",
        "    def tanh(self):\n",
        "        x = self.data\n",
        "        t = (math.exp(2*x) - 1) / (math.exp(2*x) + 1)\n",
        "        out = Value(t, (self,), 'tanh')\n",
        "        def _backward():\n",
        "            #chain rule\n",
        "            self.grad += (1 - t**2) * out.grad\n",
        "        out._backward = _backward\n",
        "        return out\n",
        "\n",
        "    def backward(self):\n",
        "        # backward pada seluruh node\n",
        "        # tujuaanya agar kita tidak perlu memanggil _backward satu persatu pada masing2 node\n",
        "        # pertama kita membuat list yang berisi tiap2 node yang telah diurutkan mulai dari child ke parent menggunakan fungsi topological sort\n",
        "        # kemudian dengan me reverse list ini, kita bisa memanggil _backward untuk tiap2 node untuk menjalankan backpropagation\n",
        "        topo = []\n",
        "        visited = set()\n",
        "        def build_topo(v):\n",
        "            if v not in visited:\n",
        "                visited.add(v)\n",
        "                for child in v._prev:\n",
        "                    build_topo(child)\n",
        "                topo.append(v)\n",
        "        build_topo(self)\n",
        "\n",
        "        self.grad = 1.0\n",
        "        for node in reversed(topo):\n",
        "            node._backward()\n",
        "        draw_dot(o)\n",
        "\n"
      ],
      "metadata": {
        "id": "59hAFAJel7zG"
      },
      "execution_count": null,
      "outputs": []
    },
    {
      "cell_type": "code",
      "source": [
        "a = Value(2.0)\n",
        "b = Value(3.0)\n",
        "a/b"
      ],
      "metadata": {
        "colab": {
          "base_uri": "https://localhost:8080/"
        },
        "id": "8r06RZ3lkMUw",
        "outputId": "725c04c7-16f6-4108-d0d5-bf110e4f7baa"
      },
      "execution_count": null,
      "outputs": [
        {
          "output_type": "execute_result",
          "data": {
            "text/plain": [
              "Value(data=0.6666666666666666)"
            ]
          },
          "metadata": {},
          "execution_count": 31
        }
      ]
    },
    {
      "cell_type": "markdown",
      "source": [
        "Bagaimana _backward ini bekerja?\n",
        "            # self.grad disini merujuk kepada objek sebelum dilakukannya operasi tanh\n",
        "            # dimana out._backward pada objek out membawa/memiliki referensi ke objek pembentuknya dalam hal ini adalah self\n",
        "            # contohnya:\n",
        "            # o = n.tanh()\n",
        "            # ketika n.tanh() dipanggil dan di assign ke variable o\n",
        "            # sebelum mengembalikan nilai out ke o, method_backward di assign ke attribute out._backward yang membawa referensi objek n didalamnya\n",
        "            # sehingga ketika method _backward dipanggil pada objek o , self.grad (disini sebenarnya adalah n.grad) akan diupdate\n",
        "            # hal yang sama juga berlaku pada method2 yang lain (__add__, __mul__,__sub__)"
      ],
      "metadata": {
        "id": "dTIfr2B9SnVy"
      }
    },
    {
      "cell_type": "markdown",
      "source": [
        "Bagaimana melakukan automasi pada proses backpropagation?\n",
        "        # kita tahu bahwa proses backpropagation dimulai dari node terakhir (paling kanan)\n",
        "        # idenya adalah membuat list yang berisikan node2 yang sudah diurutkan\n",
        "        # Untuk mengurutkan node2 nya kita menggunakan fungsi topological sort\n",
        "        # setelah node2 nya diurutkan kita hanya perlu memanggil fungsi _backward untuk tiap2 node"
      ],
      "metadata": {
        "id": "vjXehROG6aRw"
      }
    },
    {
      "cell_type": "code",
      "source": [
        "from graphviz import Digraph\n",
        "\n",
        "def trace(root):\n",
        "    #builds a set of all nodes in a graph\n",
        "    nodes , edges = set(), set()\n",
        "    def build(v):\n",
        "        if v not in nodes:\n",
        "            nodes.add(v)\n",
        "            for child in v._prev:\n",
        "                edges.add((child,v))\n",
        "                build(child)\n",
        "    build(root)\n",
        "    return nodes, edges\n",
        "\n",
        "def draw_dot(root):\n",
        "    dot = Digraph(format = 'svg', graph_attr = {'rankdir' : 'LR'})\n",
        "    nodes, edges = trace(root)\n",
        "\n",
        "    for n in nodes:\n",
        "        uid = str(id(n))\n",
        "\n",
        "        dot.node(name = uid, label = \"{%s | data %.4f| grad %.4f}\" % (n.label,n.data,n.grad), shape = 'record')\n",
        "        if n._op:\n",
        "            dot.node(name = uid + n._op, label = n._op)\n",
        "\n",
        "            dot.edge(uid + n._op, uid)\n",
        "    for n1, n2 in edges:\n",
        "        dot.edge(str(id(n1)), str(id(n2)) + n2._op)\n",
        "\n",
        "    return dot"
      ],
      "metadata": {
        "id": "MhIMG1tYqJF1"
      },
      "execution_count": null,
      "outputs": []
    },
    {
      "cell_type": "code",
      "source": [
        "# inputs x\n",
        "x1 = Value(2.0, label = 'x1')\n",
        "x2 = Value(0.0, label = 'x2')\n",
        "#weights\n",
        "w1 = Value(-3.0, label = 'w1')\n",
        "w2 = Value(1.0, label = 'w2')\n",
        "#bias\n",
        "b = Value(6.88137, label ='b')\n",
        "# x1w1 + x2w2 + b\n",
        "x1w1 = x1 * w1\n",
        "x1w1.label = 'x1w1'\n",
        "x2w2 = x2 * w2\n",
        "x2w2.label = 'x2w2'\n",
        "x1w1x2w2 = x1w1 + x2w2\n",
        "x1w1x2w2.label = 'x1w1x2w2'\n",
        "n = x1w1x2w2 + b\n",
        "n.label = 'n'\n",
        "o = n.tanh()\n",
        "o.label  = 'o'"
      ],
      "metadata": {
        "id": "XlnmnH5IjfVF"
      },
      "execution_count": null,
      "outputs": []
    },
    {
      "cell_type": "code",
      "source": [
        "o.backward()"
      ],
      "metadata": {
        "id": "o89CvwkG_4Lf"
      },
      "execution_count": null,
      "outputs": []
    },
    {
      "cell_type": "code",
      "source": [
        "draw_dot(o)"
      ],
      "metadata": {
        "colab": {
          "base_uri": "https://localhost:8080/",
          "height": 322
        },
        "id": "iN7OVv0j8rxn",
        "outputId": "4a76a91e-5a42-470a-ac76-cd7ad5a06692"
      },
      "execution_count": null,
      "outputs": [
        {
          "output_type": "execute_result",
          "data": {
            "image/svg+xml": "<?xml version=\"1.0\" encoding=\"UTF-8\" standalone=\"no\"?>\n<!DOCTYPE svg PUBLIC \"-//W3C//DTD SVG 1.1//EN\"\n \"http://www.w3.org/Graphics/SVG/1.1/DTD/svg11.dtd\">\n<!-- Generated by graphviz version 2.43.0 (0)\n -->\n<!-- Title: %3 Pages: 1 -->\n<svg width=\"1540pt\" height=\"210pt\"\n viewBox=\"0.00 0.00 1540.00 210.00\" xmlns=\"http://www.w3.org/2000/svg\" xmlns:xlink=\"http://www.w3.org/1999/xlink\">\n<g id=\"graph0\" class=\"graph\" transform=\"scale(1 1) rotate(0) translate(4 206)\">\n<title>%3</title>\n<polygon fill=\"white\" stroke=\"transparent\" points=\"-4,4 -4,-206 1536,-206 1536,4 -4,4\"/>\n<!-- 139318846620192 -->\n<g id=\"node1\" class=\"node\">\n<title>139318846620192</title>\n<polygon fill=\"none\" stroke=\"black\" points=\"1347,-109.5 1347,-145.5 1532,-145.5 1532,-109.5 1347,-109.5\"/>\n<text text-anchor=\"middle\" x=\"1358.5\" y=\"-123.8\" font-family=\"Times,serif\" font-size=\"14.00\">o</text>\n<polyline fill=\"none\" stroke=\"black\" points=\"1370,-109.5 1370,-145.5 \"/>\n<text text-anchor=\"middle\" x=\"1410\" y=\"-123.8\" font-family=\"Times,serif\" font-size=\"14.00\">data 0.7071</text>\n<polyline fill=\"none\" stroke=\"black\" points=\"1450,-109.5 1450,-145.5 \"/>\n<text text-anchor=\"middle\" x=\"1491\" y=\"-123.8\" font-family=\"Times,serif\" font-size=\"14.00\">grad 1.0000</text>\n</g>\n<!-- 139318846620192tanh -->\n<g id=\"node2\" class=\"node\">\n<title>139318846620192tanh</title>\n<ellipse fill=\"none\" stroke=\"black\" cx=\"1284\" cy=\"-127.5\" rx=\"27\" ry=\"18\"/>\n<text text-anchor=\"middle\" x=\"1284\" y=\"-123.8\" font-family=\"Times,serif\" font-size=\"14.00\">tanh</text>\n</g>\n<!-- 139318846620192tanh&#45;&gt;139318846620192 -->\n<g id=\"edge1\" class=\"edge\">\n<title>139318846620192tanh&#45;&gt;139318846620192</title>\n<path fill=\"none\" stroke=\"black\" d=\"M1311.04,-127.5C1318.58,-127.5 1327.3,-127.5 1336.57,-127.5\"/>\n<polygon fill=\"black\" stroke=\"black\" points=\"1336.81,-131 1346.81,-127.5 1336.81,-124 1336.81,-131\"/>\n</g>\n<!-- 139318846628400 -->\n<g id=\"node3\" class=\"node\">\n<title>139318846628400</title>\n<polygon fill=\"none\" stroke=\"black\" points=\"695.5,-137.5 695.5,-173.5 880.5,-173.5 880.5,-137.5 695.5,-137.5\"/>\n<text text-anchor=\"middle\" x=\"707\" y=\"-151.8\" font-family=\"Times,serif\" font-size=\"14.00\">b</text>\n<polyline fill=\"none\" stroke=\"black\" points=\"718.5,-137.5 718.5,-173.5 \"/>\n<text text-anchor=\"middle\" x=\"758.5\" y=\"-151.8\" font-family=\"Times,serif\" font-size=\"14.00\">data 6.8814</text>\n<polyline fill=\"none\" stroke=\"black\" points=\"798.5,-137.5 798.5,-173.5 \"/>\n<text text-anchor=\"middle\" x=\"839.5\" y=\"-151.8\" font-family=\"Times,serif\" font-size=\"14.00\">grad 0.5000</text>\n</g>\n<!-- 139318846634112+ -->\n<g id=\"node6\" class=\"node\">\n<title>139318846634112+</title>\n<ellipse fill=\"none\" stroke=\"black\" cx=\"973\" cy=\"-127.5\" rx=\"27\" ry=\"18\"/>\n<text text-anchor=\"middle\" x=\"973\" y=\"-123.8\" font-family=\"Times,serif\" font-size=\"14.00\">+</text>\n</g>\n<!-- 139318846628400&#45;&gt;139318846634112+ -->\n<g id=\"edge12\" class=\"edge\">\n<title>139318846628400&#45;&gt;139318846634112+</title>\n<path fill=\"none\" stroke=\"black\" d=\"M880.77,-141.46C900.52,-138.44 920.26,-135.42 936.29,-132.96\"/>\n<polygon fill=\"black\" stroke=\"black\" points=\"936.9,-136.41 946.26,-131.44 935.85,-129.49 936.9,-136.41\"/>\n</g>\n<!-- 139318846623312 -->\n<g id=\"node4\" class=\"node\">\n<title>139318846623312</title>\n<polygon fill=\"none\" stroke=\"black\" points=\"2.5,-55.5 2.5,-91.5 197.5,-91.5 197.5,-55.5 2.5,-55.5\"/>\n<text text-anchor=\"middle\" x=\"19\" y=\"-69.8\" font-family=\"Times,serif\" font-size=\"14.00\">w2</text>\n<polyline fill=\"none\" stroke=\"black\" points=\"35.5,-55.5 35.5,-91.5 \"/>\n<text text-anchor=\"middle\" x=\"75.5\" y=\"-69.8\" font-family=\"Times,serif\" font-size=\"14.00\">data 1.0000</text>\n<polyline fill=\"none\" stroke=\"black\" points=\"115.5,-55.5 115.5,-91.5 \"/>\n<text text-anchor=\"middle\" x=\"156.5\" y=\"-69.8\" font-family=\"Times,serif\" font-size=\"14.00\">grad 0.0000</text>\n</g>\n<!-- 139318846624128* -->\n<g id=\"node12\" class=\"node\">\n<title>139318846624128*</title>\n<ellipse fill=\"none\" stroke=\"black\" cx=\"263\" cy=\"-73.5\" rx=\"27\" ry=\"18\"/>\n<text text-anchor=\"middle\" x=\"263\" y=\"-69.8\" font-family=\"Times,serif\" font-size=\"14.00\">*</text>\n</g>\n<!-- 139318846623312&#45;&gt;139318846624128* -->\n<g id=\"edge10\" class=\"edge\">\n<title>139318846623312&#45;&gt;139318846624128*</title>\n<path fill=\"none\" stroke=\"black\" d=\"M197.91,-73.5C207.65,-73.5 217.05,-73.5 225.52,-73.5\"/>\n<polygon fill=\"black\" stroke=\"black\" points=\"225.7,-77 235.7,-73.5 225.7,-70 225.7,-77\"/>\n</g>\n<!-- 139318846634112 -->\n<g id=\"node5\" class=\"node\">\n<title>139318846634112</title>\n<polygon fill=\"none\" stroke=\"black\" points=\"1036,-109.5 1036,-145.5 1221,-145.5 1221,-109.5 1036,-109.5\"/>\n<text text-anchor=\"middle\" x=\"1047.5\" y=\"-123.8\" font-family=\"Times,serif\" font-size=\"14.00\">n</text>\n<polyline fill=\"none\" stroke=\"black\" points=\"1059,-109.5 1059,-145.5 \"/>\n<text text-anchor=\"middle\" x=\"1099\" y=\"-123.8\" font-family=\"Times,serif\" font-size=\"14.00\">data 0.8814</text>\n<polyline fill=\"none\" stroke=\"black\" points=\"1139,-109.5 1139,-145.5 \"/>\n<text text-anchor=\"middle\" x=\"1180\" y=\"-123.8\" font-family=\"Times,serif\" font-size=\"14.00\">grad 0.5000</text>\n</g>\n<!-- 139318846634112&#45;&gt;139318846620192tanh -->\n<g id=\"edge13\" class=\"edge\">\n<title>139318846634112&#45;&gt;139318846620192tanh</title>\n<path fill=\"none\" stroke=\"black\" d=\"M1221.01,-127.5C1230.01,-127.5 1238.74,-127.5 1246.66,-127.5\"/>\n<polygon fill=\"black\" stroke=\"black\" points=\"1246.91,-131 1256.91,-127.5 1246.91,-124 1246.91,-131\"/>\n</g>\n<!-- 139318846634112+&#45;&gt;139318846634112 -->\n<g id=\"edge2\" class=\"edge\">\n<title>139318846634112+&#45;&gt;139318846634112</title>\n<path fill=\"none\" stroke=\"black\" d=\"M1000.04,-127.5C1007.58,-127.5 1016.3,-127.5 1025.57,-127.5\"/>\n<polygon fill=\"black\" stroke=\"black\" points=\"1025.81,-131 1035.81,-127.5 1025.81,-124 1025.81,-131\"/>\n</g>\n<!-- 139318846632576 -->\n<g id=\"node7\" class=\"node\">\n<title>139318846632576</title>\n<polygon fill=\"none\" stroke=\"black\" points=\"2,-165.5 2,-201.5 198,-201.5 198,-165.5 2,-165.5\"/>\n<text text-anchor=\"middle\" x=\"17\" y=\"-179.8\" font-family=\"Times,serif\" font-size=\"14.00\">x1</text>\n<polyline fill=\"none\" stroke=\"black\" points=\"32,-165.5 32,-201.5 \"/>\n<text text-anchor=\"middle\" x=\"72\" y=\"-179.8\" font-family=\"Times,serif\" font-size=\"14.00\">data 2.0000</text>\n<polyline fill=\"none\" stroke=\"black\" points=\"112,-165.5 112,-201.5 \"/>\n<text text-anchor=\"middle\" x=\"155\" y=\"-179.8\" font-family=\"Times,serif\" font-size=\"14.00\">grad &#45;1.5000</text>\n</g>\n<!-- 139318846624944* -->\n<g id=\"node9\" class=\"node\">\n<title>139318846624944*</title>\n<ellipse fill=\"none\" stroke=\"black\" cx=\"263\" cy=\"-128.5\" rx=\"27\" ry=\"18\"/>\n<text text-anchor=\"middle\" x=\"263\" y=\"-124.8\" font-family=\"Times,serif\" font-size=\"14.00\">*</text>\n</g>\n<!-- 139318846632576&#45;&gt;139318846624944* -->\n<g id=\"edge8\" class=\"edge\">\n<title>139318846632576&#45;&gt;139318846624944*</title>\n<path fill=\"none\" stroke=\"black\" d=\"M172.53,-165.44C181.84,-162.67 191.2,-159.67 200,-156.5 210.53,-152.71 221.75,-147.9 231.72,-143.33\"/>\n<polygon fill=\"black\" stroke=\"black\" points=\"233.25,-146.48 240.82,-139.07 230.28,-140.14 233.25,-146.48\"/>\n</g>\n<!-- 139318846624944 -->\n<g id=\"node8\" class=\"node\">\n<title>139318846624944</title>\n<polygon fill=\"none\" stroke=\"black\" points=\"326,-110.5 326,-146.5 540,-146.5 540,-110.5 326,-110.5\"/>\n<text text-anchor=\"middle\" x=\"349.5\" y=\"-124.8\" font-family=\"Times,serif\" font-size=\"14.00\">x1w1</text>\n<polyline fill=\"none\" stroke=\"black\" points=\"373,-110.5 373,-146.5 \"/>\n<text text-anchor=\"middle\" x=\"415.5\" y=\"-124.8\" font-family=\"Times,serif\" font-size=\"14.00\">data &#45;6.0000</text>\n<polyline fill=\"none\" stroke=\"black\" points=\"458,-110.5 458,-146.5 \"/>\n<text text-anchor=\"middle\" x=\"499\" y=\"-124.8\" font-family=\"Times,serif\" font-size=\"14.00\">grad 0.5000</text>\n</g>\n<!-- 139318846621056+ -->\n<g id=\"node14\" class=\"node\">\n<title>139318846621056+</title>\n<ellipse fill=\"none\" stroke=\"black\" cx=\"603\" cy=\"-100.5\" rx=\"27\" ry=\"18\"/>\n<text text-anchor=\"middle\" x=\"603\" y=\"-96.8\" font-family=\"Times,serif\" font-size=\"14.00\">+</text>\n</g>\n<!-- 139318846624944&#45;&gt;139318846621056+ -->\n<g id=\"edge7\" class=\"edge\">\n<title>139318846624944&#45;&gt;139318846621056+</title>\n<path fill=\"none\" stroke=\"black\" d=\"M540.4,-110.77C549.72,-109.21 558.65,-107.72 566.68,-106.39\"/>\n<polygon fill=\"black\" stroke=\"black\" points=\"567.38,-109.82 576.66,-104.72 566.22,-102.91 567.38,-109.82\"/>\n</g>\n<!-- 139318846624944*&#45;&gt;139318846624944 -->\n<g id=\"edge3\" class=\"edge\">\n<title>139318846624944*&#45;&gt;139318846624944</title>\n<path fill=\"none\" stroke=\"black\" d=\"M290.25,-128.5C297.7,-128.5 306.34,-128.5 315.59,-128.5\"/>\n<polygon fill=\"black\" stroke=\"black\" points=\"315.84,-132 325.84,-128.5 315.84,-125 315.84,-132\"/>\n</g>\n<!-- 139318846634688 -->\n<g id=\"node10\" class=\"node\">\n<title>139318846634688</title>\n<polygon fill=\"none\" stroke=\"black\" points=\"0,-110.5 0,-146.5 200,-146.5 200,-110.5 0,-110.5\"/>\n<text text-anchor=\"middle\" x=\"16.5\" y=\"-124.8\" font-family=\"Times,serif\" font-size=\"14.00\">w1</text>\n<polyline fill=\"none\" stroke=\"black\" points=\"33,-110.5 33,-146.5 \"/>\n<text text-anchor=\"middle\" x=\"75.5\" y=\"-124.8\" font-family=\"Times,serif\" font-size=\"14.00\">data &#45;3.0000</text>\n<polyline fill=\"none\" stroke=\"black\" points=\"118,-110.5 118,-146.5 \"/>\n<text text-anchor=\"middle\" x=\"159\" y=\"-124.8\" font-family=\"Times,serif\" font-size=\"14.00\">grad 1.0000</text>\n</g>\n<!-- 139318846634688&#45;&gt;139318846624944* -->\n<g id=\"edge11\" class=\"edge\">\n<title>139318846634688&#45;&gt;139318846624944*</title>\n<path fill=\"none\" stroke=\"black\" d=\"M200.21,-128.5C209.2,-128.5 217.86,-128.5 225.7,-128.5\"/>\n<polygon fill=\"black\" stroke=\"black\" points=\"225.85,-132 235.85,-128.5 225.85,-125 225.85,-132\"/>\n</g>\n<!-- 139318846624128 -->\n<g id=\"node11\" class=\"node\">\n<title>139318846624128</title>\n<polygon fill=\"none\" stroke=\"black\" points=\"328.5,-55.5 328.5,-91.5 537.5,-91.5 537.5,-55.5 328.5,-55.5\"/>\n<text text-anchor=\"middle\" x=\"352\" y=\"-69.8\" font-family=\"Times,serif\" font-size=\"14.00\">x2w2</text>\n<polyline fill=\"none\" stroke=\"black\" points=\"375.5,-55.5 375.5,-91.5 \"/>\n<text text-anchor=\"middle\" x=\"415.5\" y=\"-69.8\" font-family=\"Times,serif\" font-size=\"14.00\">data 0.0000</text>\n<polyline fill=\"none\" stroke=\"black\" points=\"455.5,-55.5 455.5,-91.5 \"/>\n<text text-anchor=\"middle\" x=\"496.5\" y=\"-69.8\" font-family=\"Times,serif\" font-size=\"14.00\">grad 0.5000</text>\n</g>\n<!-- 139318846624128&#45;&gt;139318846621056+ -->\n<g id=\"edge14\" class=\"edge\">\n<title>139318846624128&#45;&gt;139318846621056+</title>\n<path fill=\"none\" stroke=\"black\" d=\"M537.53,-90.14C547.8,-91.79 557.66,-93.37 566.45,-94.79\"/>\n<polygon fill=\"black\" stroke=\"black\" points=\"566.16,-98.28 576.59,-96.42 567.27,-91.37 566.16,-98.28\"/>\n</g>\n<!-- 139318846624128*&#45;&gt;139318846624128 -->\n<g id=\"edge4\" class=\"edge\">\n<title>139318846624128*&#45;&gt;139318846624128</title>\n<path fill=\"none\" stroke=\"black\" d=\"M290.25,-73.5C298.43,-73.5 308.03,-73.5 318.31,-73.5\"/>\n<polygon fill=\"black\" stroke=\"black\" points=\"318.35,-77 328.35,-73.5 318.35,-70 318.35,-77\"/>\n</g>\n<!-- 139318846621056 -->\n<g id=\"node13\" class=\"node\">\n<title>139318846621056</title>\n<polygon fill=\"none\" stroke=\"black\" points=\"666,-82.5 666,-118.5 910,-118.5 910,-82.5 666,-82.5\"/>\n<text text-anchor=\"middle\" x=\"704.5\" y=\"-96.8\" font-family=\"Times,serif\" font-size=\"14.00\">x1w1x2w2</text>\n<polyline fill=\"none\" stroke=\"black\" points=\"743,-82.5 743,-118.5 \"/>\n<text text-anchor=\"middle\" x=\"785.5\" y=\"-96.8\" font-family=\"Times,serif\" font-size=\"14.00\">data &#45;6.0000</text>\n<polyline fill=\"none\" stroke=\"black\" points=\"828,-82.5 828,-118.5 \"/>\n<text text-anchor=\"middle\" x=\"869\" y=\"-96.8\" font-family=\"Times,serif\" font-size=\"14.00\">grad 0.5000</text>\n</g>\n<!-- 139318846621056&#45;&gt;139318846634112+ -->\n<g id=\"edge6\" class=\"edge\">\n<title>139318846621056&#45;&gt;139318846634112+</title>\n<path fill=\"none\" stroke=\"black\" d=\"M910.04,-118.36C919.47,-119.75 928.43,-121.07 936.46,-122.26\"/>\n<polygon fill=\"black\" stroke=\"black\" points=\"936.03,-125.73 946.43,-123.73 937.05,-118.81 936.03,-125.73\"/>\n</g>\n<!-- 139318846621056+&#45;&gt;139318846621056 -->\n<g id=\"edge5\" class=\"edge\">\n<title>139318846621056+&#45;&gt;139318846621056</title>\n<path fill=\"none\" stroke=\"black\" d=\"M630.22,-100.5C637.7,-100.5 646.4,-100.5 655.79,-100.5\"/>\n<polygon fill=\"black\" stroke=\"black\" points=\"655.8,-104 665.8,-100.5 655.8,-97 655.8,-104\"/>\n</g>\n<!-- 139318846631904 -->\n<g id=\"node15\" class=\"node\">\n<title>139318846631904</title>\n<polygon fill=\"none\" stroke=\"black\" points=\"4,-0.5 4,-36.5 196,-36.5 196,-0.5 4,-0.5\"/>\n<text text-anchor=\"middle\" x=\"19\" y=\"-14.8\" font-family=\"Times,serif\" font-size=\"14.00\">x2</text>\n<polyline fill=\"none\" stroke=\"black\" points=\"34,-0.5 34,-36.5 \"/>\n<text text-anchor=\"middle\" x=\"74\" y=\"-14.8\" font-family=\"Times,serif\" font-size=\"14.00\">data 0.0000</text>\n<polyline fill=\"none\" stroke=\"black\" points=\"114,-0.5 114,-36.5 \"/>\n<text text-anchor=\"middle\" x=\"155\" y=\"-14.8\" font-family=\"Times,serif\" font-size=\"14.00\">grad 0.5000</text>\n</g>\n<!-- 139318846631904&#45;&gt;139318846624128* -->\n<g id=\"edge9\" class=\"edge\">\n<title>139318846631904&#45;&gt;139318846624128*</title>\n<path fill=\"none\" stroke=\"black\" d=\"M169.28,-36.5C179.65,-39.61 190.16,-42.98 200,-46.5 210.28,-50.17 221.28,-54.74 231.11,-59.07\"/>\n<polygon fill=\"black\" stroke=\"black\" points=\"229.93,-62.37 240.48,-63.27 232.79,-55.99 229.93,-62.37\"/>\n</g>\n</g>\n</svg>\n",
            "text/plain": [
              "<graphviz.graphs.Digraph at 0x7eb5b25d3b50>"
            ]
          },
          "metadata": {},
          "execution_count": 35
        }
      ]
    },
    {
      "cell_type": "code",
      "source": [
        "class Neuron:\n",
        "    def __init__(self, input_nums):\n",
        "        '''\n",
        "        pada 1 pasangan layer\n",
        "        input_nums : jumlah neuron/feature pada input layer\n",
        "        w : sebuah list yang berisi weight sejumlah jumlah feature input\n",
        "        b : bias berupa scalar\n",
        "        '''\n",
        "        self.w =[Value(np.random.uniform(-1,1)) for _ in range(input_nums)]\n",
        "        self.b = Value(np.random.uniform(-1,1))\n",
        "\n",
        "    def parameters(self):\n",
        "        return self.w + [self.b]\n",
        "    def __call__(self,x):\n",
        "        # w * x + b\n",
        "        '''\n",
        "        act : linear transformasi dari w dan x\n",
        "        out : output setelah ditrannsformasi dengan acivation function/ forward propagation\n",
        "        '''\n",
        "        act = sum((w1*x1 for w1,x1 in zip(self.w , x)), start = self.b)\n",
        "        out = act.tanh()\n",
        "        return out\n",
        "\n",
        "class Layer:\n",
        "    def __init__(self, input_num, output_num):\n",
        "        '''\n",
        "        pada 1 pasangan layer\n",
        "        input_num : jumlah neuron/feature pada input layer\n",
        "        output_num : jumlah neuron/feature pada output layer\n",
        "        neurons : merupakan list yang berisikan kumpulan objek Neuron sebanyak output layer\n",
        "        outs : proses forward propagation\n",
        "        '''\n",
        "        self.neurons = [Neuron(input_num) for _ in range(output_num)]\n",
        "\n",
        "\n",
        "    def parameters(self):\n",
        "        return [p for neuron in self.neurons for p in neuron.parameters()]\n",
        "\n",
        "\n",
        "    def __call__(self, x):\n",
        "        outs = [n(x) for n in self.neurons]\n",
        "        return outs[0] if (len(outs) == 1) else outs\n",
        "\n",
        "class MLP:\n",
        "    '''\n",
        "    sz : list yang merepresentasikan junlah layer dari MLP\n",
        "    input_num : jumlah neuron dalam input layer\n",
        "    output_nums[:-1] : list yang berisikan jumlah neuron untuk tiap hidden layer\n",
        "    output_nums[-1] : jumlah neuron pada output layer\n",
        "    layers : list yang berisi objek yang merupakan pasangan layer untuk tiap layer\n",
        "    '''\n",
        "    def __init__(self, input_num, output_nums):\n",
        "        sz = [input_num] + output_nums\n",
        "        self.layers = [Layer(sz[i], sz[i+1]) for i in range(len(output_nums))]\n",
        "\n",
        "    def parameters(self):\n",
        "        return [p for layer in self.layers for p in layer.parameters()]\n",
        "\n",
        "    def __call__(self, x):\n",
        "        for layer in self.layers:\n",
        "            x = layer(x)\n",
        "        return x"
      ],
      "metadata": {
        "id": "jD9W8pf-nM4A"
      },
      "execution_count": null,
      "outputs": []
    },
    {
      "cell_type": "code",
      "source": [
        "n = MLP(3, [4,4,1])"
      ],
      "metadata": {
        "id": "ibfVgQIR9Rsa"
      },
      "execution_count": null,
      "outputs": []
    },
    {
      "cell_type": "code",
      "source": [
        "xs = [[2.0, 3.0, -1.0],\n",
        "      [3.0, -1.0, 0.5],\n",
        "      [0.5, 1.0, 1.0],\n",
        "      [1.0, 1.0, -1.0]]\n",
        "ys = [1.0, -1.0, -1.0, 1.0]"
      ],
      "metadata": {
        "id": "Zr8lfhvLDcbf"
      },
      "execution_count": null,
      "outputs": []
    },
    {
      "cell_type": "code",
      "source": [
        "for i in range(1000):\n",
        "    y_pred = [n(x) for x in xs]\n",
        "    loss = sum((yhat - ygt)**2 for ygt,yhat in zip(ys,y_pred))\n",
        "    # set semua gradien menjadi 0 sebelum memanggil backward untuk setiap 1 iterasi training\n",
        "    for param in n.parameters():\n",
        "        param.grad = 0.0\n",
        "\n",
        "    for param in n.parameters():\n",
        "        param.data -= param.grad * 0.05\n",
        "\n",
        "    if i%100 == 0:\n",
        "        print(i , ' ---> ' ,loss.data)\n",
        "y_pred = [n(x) for x in xs]\n",
        "print(y_pred)\n"
      ],
      "metadata": {
        "colab": {
          "base_uri": "https://localhost:8080/"
        },
        "id": "kdAlWxzzQKPm",
        "outputId": "8925574d-f714-4323-930c-21af242214ad"
      },
      "execution_count": null,
      "outputs": [
        {
          "output_type": "stream",
          "name": "stdout",
          "text": [
            "0  --->  0.002536287173536522\n",
            "100  --->  0.002536287173536522\n",
            "200  --->  0.002536287173536522\n",
            "300  --->  0.002536287173536522\n",
            "400  --->  0.002536287173536522\n",
            "500  --->  0.002536287173536522\n",
            "600  --->  0.002536287173536522\n",
            "700  --->  0.002536287173536522\n",
            "800  --->  0.002536287173536522\n",
            "900  --->  0.002536287173536522\n",
            "[Value(data=0.973794731243126), Value(data=-0.9907637790126133), Value(data=-0.9641596886370885), Value(data=0.9780971379450485)]\n"
          ]
        }
      ]
    },
    {
      "cell_type": "code",
      "source": [],
      "metadata": {
        "id": "dOOtsQCsEgYe"
      },
      "execution_count": null,
      "outputs": []
    }
  ]
}