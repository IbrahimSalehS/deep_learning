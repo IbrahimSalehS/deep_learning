{
  "nbformat": 4,
  "nbformat_minor": 0,
  "metadata": {
    "colab": {
      "provenance": []
    },
    "kernelspec": {
      "name": "python3",
      "display_name": "Python 3"
    },
    "language_info": {
      "name": "python"
    }
  },
  "cells": [
    {
      "cell_type": "code",
      "execution_count": null,
      "metadata": {
        "id": "7-rgKChg_pj5",
        "colab": {
          "base_uri": "https://localhost:8080/"
        },
        "outputId": "532be293-f630-4d24-f4e7-2e442f696c87"
      },
      "outputs": [
        {
          "output_type": "stream",
          "name": "stdout",
          "text": [
            "--2023-09-12 06:40:43--  https://raw.githubusercontent.com/karpathy/makemore/master/names.txt\n",
            "Resolving raw.githubusercontent.com (raw.githubusercontent.com)... 185.199.108.133, 185.199.109.133, 185.199.110.133, ...\n",
            "Connecting to raw.githubusercontent.com (raw.githubusercontent.com)|185.199.108.133|:443... connected.\n",
            "HTTP request sent, awaiting response... 200 OK\n",
            "Length: 228145 (223K) [text/plain]\n",
            "Saving to: ‘names.txt’\n",
            "\n",
            "\rnames.txt             0%[                    ]       0  --.-KB/s               \rnames.txt           100%[===================>] 222.80K  --.-KB/s    in 0.03s   \n",
            "\n",
            "2023-09-12 06:40:44 (7.27 MB/s) - ‘names.txt’ saved [228145/228145]\n",
            "\n"
          ]
        }
      ],
      "source": [
        "!wget https://raw.githubusercontent.com/karpathy/makemore/master/names.txt"
      ]
    },
    {
      "cell_type": "code",
      "source": [
        "dir = r'/content/'\n",
        "words = open(dir+'/names.txt','r').read().splitlines()\n",
        "words[:3]"
      ],
      "metadata": {
        "colab": {
          "base_uri": "https://localhost:8080/"
        },
        "id": "1uV6XHxPAw4W",
        "outputId": "64d58395-52e1-4daf-9e88-e2fd86c6aed7"
      },
      "execution_count": null,
      "outputs": [
        {
          "output_type": "execute_result",
          "data": {
            "text/plain": [
              "['emma', 'olivia', 'ava']"
            ]
          },
          "metadata": {},
          "execution_count": 2
        }
      ]
    },
    {
      "cell_type": "code",
      "source": [
        "import torch\n",
        "import torch.nn.functional as F\n",
        "import matplotlib.pyplot as plt\n",
        "import random"
      ],
      "metadata": {
        "id": "g-U7uMuLJm1l"
      },
      "execution_count": null,
      "outputs": []
    },
    {
      "cell_type": "code",
      "source": [
        "# Build Vocabulary of characters and mapping to/from integers\n",
        "chars = sorted(list(set(''.join(words))))\n",
        "stoi = {s:i+1 for i,s in enumerate(chars)}\n",
        "stoi['.'] = 0\n",
        "itos = {i:s for s,i in stoi.items()}\n",
        "print(len(itos))"
      ],
      "metadata": {
        "colab": {
          "base_uri": "https://localhost:8080/"
        },
        "id": "Q39qxicATYOI",
        "outputId": "2ae888e0-a1b9-492c-83dc-e635765e4e3d"
      },
      "execution_count": null,
      "outputs": [
        {
          "output_type": "stream",
          "name": "stdout",
          "text": [
            "27\n"
          ]
        }
      ]
    },
    {
      "cell_type": "code",
      "source": [
        "#create training set (x,y)\n",
        "\n",
        "block_size = 8 # berapa karakter pendahulu yang dipakai untuk memprediksi karakter setelahnya\n",
        "vocab_size = 27\n",
        "\n",
        "def build_dataset(words):\n",
        "    X, Y = [], []\n",
        "    for w in words:\n",
        "        #print(w)\n",
        "        context = [0] * block_size\n",
        "        for ch in w + '.':\n",
        "            ix = stoi[ch]\n",
        "            X.append(context)\n",
        "            Y.append(ix)\n",
        "            #print(''.join(itos[i] for i in context) , ' ---> ',itos[ix])\n",
        "            context = context[1:] + [ix]\n",
        "\n",
        "    X = torch.tensor(X)\n",
        "    Y = torch.tensor(Y)\n",
        "    print(X.shape, Y.shape)\n",
        "    return X,Y"
      ],
      "metadata": {
        "id": "lR3TbO9bAuMa"
      },
      "execution_count": null,
      "outputs": []
    },
    {
      "cell_type": "code",
      "source": [
        "#Splitting Data Train, Dev, Test (80%, 10%, 10%)\n",
        "import random\n",
        "random.seed(42)\n",
        "random.shuffle(words)\n",
        "n1 = int(0.8 * len(words))\n",
        "n2 = int(0.9* len(words))\n",
        "\n",
        "X_tr, Y_tr = build_dataset(words[:n1])\n",
        "X_dev, Y_dev = build_dataset(words[n1:n2])\n",
        "X_te, Y_te = build_dataset(words[n2:])"
      ],
      "metadata": {
        "id": "EcrOuUmHo3G8",
        "colab": {
          "base_uri": "https://localhost:8080/"
        },
        "outputId": "e94afaea-67ee-4202-a908-72355d0294db"
      },
      "execution_count": null,
      "outputs": [
        {
          "output_type": "stream",
          "name": "stdout",
          "text": [
            "torch.Size([182625, 8]) torch.Size([182625])\n",
            "torch.Size([22655, 8]) torch.Size([22655])\n",
            "torch.Size([22866, 8]) torch.Size([22866])\n"
          ]
        }
      ]
    },
    {
      "cell_type": "code",
      "source": [
        "for x,y in zip(X_tr[:10],Y_tr[:10]):\n",
        "    print(''.join(itos[ix.item()] for ix in x) , ' --> ' , itos[y.item()])"
      ],
      "metadata": {
        "colab": {
          "base_uri": "https://localhost:8080/"
        },
        "id": "47LTcTux1AYA",
        "outputId": "34afa77c-4e6f-4d5a-9264-a94870f8b257"
      },
      "execution_count": null,
      "outputs": [
        {
          "output_type": "stream",
          "name": "stdout",
          "text": [
            "........  -->  y\n",
            ".......y  -->  u\n",
            "......yu  -->  h\n",
            ".....yuh  -->  e\n",
            "....yuhe  -->  n\n",
            "...yuhen  -->  g\n",
            "..yuheng  -->  .\n",
            "........  -->  d\n",
            ".......d  -->  i\n",
            "......di  -->  o\n"
          ]
        }
      ]
    },
    {
      "cell_type": "code",
      "source": [
        "print(X_tr.shape,Y_tr.shape)\n",
        "print(X_dev.shape,Y_dev.shape)\n",
        "print(X_te.shape,Y_te.shape)"
      ],
      "metadata": {
        "colab": {
          "base_uri": "https://localhost:8080/"
        },
        "id": "yR6TTEBKYYPt",
        "outputId": "8d671396-e413-42e1-a972-357aa8400068"
      },
      "execution_count": null,
      "outputs": [
        {
          "output_type": "stream",
          "name": "stdout",
          "text": [
            "torch.Size([182625, 8]) torch.Size([182625])\n",
            "torch.Size([22655, 8]) torch.Size([22655])\n",
            "torch.Size([22866, 8]) torch.Size([22866])\n"
          ]
        }
      ]
    },
    {
      "cell_type": "code",
      "source": [
        "\n",
        "class Linear:\n",
        "\n",
        "    def __init__(self,fan_in, fan_out, bias = True):\n",
        "        self.weight = torch.randn((fan_in, fan_out)) / fan_in**0.5\n",
        "        self.bias = torch.zeros((fan_out)) if bias else None\n",
        "\n",
        "    def __call__(self, x):\n",
        "        self.out = x @ self.weight\n",
        "        if self.bias is not None:\n",
        "            self.out += self.bias\n",
        "        return self.out\n",
        "\n",
        "    def parameters(self):\n",
        "        return [self.weight] + ([] if self.bias is None else [self.bias])\n",
        "\n",
        "class BatchNorm1d:\n",
        "\n",
        "  def __init__(self, dim, eps=1e-5, momentum=0.1):\n",
        "    self.eps = eps\n",
        "    self.momentum = momentum\n",
        "    self.training = True\n",
        "    # parameters (trained with backprop)\n",
        "    self.gamma = torch.ones(dim)\n",
        "    self.beta = torch.zeros(dim)\n",
        "    # buffers (trained with a running 'momentum update')\n",
        "    self.running_mean = torch.zeros(dim)\n",
        "    self.running_var = torch.ones(dim)\n",
        "\n",
        "  def __call__(self, x):\n",
        "    # calculate the forward pass\n",
        "    if self.training:\n",
        "      if x.ndim == 2:\n",
        "        dim = 0\n",
        "      elif x.ndim == 3:\n",
        "        dim = (0,1)\n",
        "      xmean = x.mean(dim, keepdim=True) # batch mean\n",
        "      xvar = x.var(dim, keepdim=True) # batch variance\n",
        "    else:\n",
        "      xmean = self.running_mean\n",
        "      xvar = self.running_var\n",
        "    xhat = (x - xmean) / torch.sqrt(xvar + self.eps) # normalize to unit variance\n",
        "    self.out = self.gamma * xhat + self.beta\n",
        "    # update the buffers\n",
        "    if self.training:\n",
        "      with torch.no_grad():\n",
        "        self.running_mean = (1 - self.momentum) * self.running_mean + self.momentum * xmean\n",
        "        self.running_var = (1 - self.momentum) * self.running_var + self.momentum * xvar\n",
        "    return self.out\n",
        "\n",
        "  def parameters(self):\n",
        "    return [self.gamma, self.beta]\n",
        "\n",
        "class Tanh:\n",
        "\n",
        "    def __call__(self, x):\n",
        "        self.out = torch.tanh(x)\n",
        "        return self.out\n",
        "\n",
        "    def parameters(self):\n",
        "        return []\n",
        "\n",
        "\n",
        "class Embedding:\n",
        "\n",
        "    def __init__(self, num_embeddings, embedding_dim):\n",
        "        self.weight = torch.randn((num_embeddings, embedding_dim))\n",
        "\n",
        "    def __call__(self, IX):\n",
        "        self.out = self.weight[IX]\n",
        "        return self.out\n",
        "\n",
        "    def parameters(self):\n",
        "        return [self.weight]\n",
        "\n",
        "\n",
        "\n",
        "class Flatten:\n",
        "\n",
        "    def __call__(self, x):\n",
        "        self.out = x.view(x.shape[0],-1)\n",
        "        return self.out\n",
        "\n",
        "    def parameters(self):\n",
        "        return []\n",
        "\n",
        "\n",
        "class Sequential:\n",
        "\n",
        "    def __init__(self, layers):\n",
        "        self.layers = layers\n",
        "\n",
        "    def __call__(self, x):\n",
        "        for layer in self.layers:\n",
        "            x = layer(x)\n",
        "        self.out = x\n",
        "        return self.out\n",
        "\n",
        "    def parameters(self):\n",
        "        return [p for layer in self.layers for p in layer.parameters()]\n",
        "\n",
        "\n",
        "class FlattenConsecutive:\n",
        "    '''\n",
        "    FlattenConsecutive : digunakan untuk implementasi wavenet\n",
        "    n : jumlah consecutive element\n",
        "        misalnya 2 untuk bigram, 4 untuk fourgram dst.\n",
        "\n",
        "    '''\n",
        "    def __init__(self, n):\n",
        "        self.n = n\n",
        "\n",
        "    def __call__(self, x):\n",
        "        B, T, C = x.shape\n",
        "        x = x.view(B , T//self.n , C*self.n)\n",
        "        if x.shape[1] == 1:\n",
        "            x = x.squeeze(1)\n",
        "        self.out = x\n",
        "        return self.out\n",
        "\n",
        "    def parameters(self):\n",
        "        return []"
      ],
      "metadata": {
        "id": "FrK07BBb2VbU"
      },
      "execution_count": null,
      "outputs": []
    },
    {
      "cell_type": "code",
      "source": [
        "n_embd = 24 # the dimensionality of the character embedding vectors\n",
        "n_hidden = 128 # the number of neurons in the hidden layer of the MLP\n",
        "# --> want to have the same parameters when the block size was 8\n",
        "\n",
        "block_size = 2\n",
        "\n",
        "model = Sequential([\n",
        "    Embedding(vocab_size, n_embd),\n",
        "    FlattenConsecutive(2), Linear(n_embd*2, n_hidden, bias=False), BatchNorm1d(n_hidden), Tanh(),\n",
        "    FlattenConsecutive(2), Linear(n_hidden*2, n_hidden, bias=False), BatchNorm1d(n_hidden), Tanh(),\n",
        "    FlattenConsecutive(2), Linear(n_hidden*2, n_hidden, bias=False), BatchNorm1d(n_hidden), Tanh(),\n",
        "    Linear(n_hidden, vocab_size),\n",
        "])\n",
        "\n",
        "# parameter init\n",
        "with torch.no_grad():\n",
        "    model.layers[-1].weight *= 0.1\n",
        "\n",
        "parameters = model.parameters()\n",
        "print(sum(p.nelement() for p in parameters))\n",
        "for p in parameters:\n",
        "    p.requires_grad = True"
      ],
      "metadata": {
        "id": "WqGsSRrETQk3",
        "colab": {
          "base_uri": "https://localhost:8080/"
        },
        "outputId": "432b4235-9e33-47ea-f90a-589a30cd07ac"
      },
      "execution_count": null,
      "outputs": [
        {
          "output_type": "stream",
          "name": "stdout",
          "text": [
            "76579\n"
          ]
        }
      ]
    },
    {
      "cell_type": "code",
      "source": [
        "batch_size = 32\n",
        "max_steps = 200000\n",
        "loss_track = []"
      ],
      "metadata": {
        "id": "c0tJNdDhHRdv"
      },
      "execution_count": null,
      "outputs": []
    },
    {
      "cell_type": "code",
      "source": [
        "for step in range(max_steps):\n",
        "\n",
        "    # construct mini batch\n",
        "    ix = torch.randint(0,X_tr.shape[0],(batch_size,))\n",
        "    Xb, Yb = X_tr[ix], Y_tr[ix]\n",
        "\n",
        "\n",
        "    #forward pass\n",
        "    logits = model(Xb)\n",
        "    loss = F.cross_entropy(logits,Yb)\n",
        "\n",
        "\n",
        "    #backward pass\n",
        "    #set zero grad on parameters\n",
        "    for p in parameters:\n",
        "        p.grad = None\n",
        "    #backward\n",
        "    loss.backward()\n",
        "\n",
        "    #update parameters\n",
        "    learning_rate = 0.1 if step < 150000 else 0.01\n",
        "    for p in parameters:\n",
        "        # print(p.grad)\n",
        "        p.data += -(p.grad * learning_rate)\n",
        "\n",
        "    if step% 10_000 == 0:\n",
        "        print(f'{step:7d}/{max_steps:7d}: {loss.item():.4f}')\n",
        "    loss_track.append(loss.log10().item())\n",
        "\n"
      ],
      "metadata": {
        "colab": {
          "base_uri": "https://localhost:8080/"
        },
        "id": "ogoPbYjFduJC",
        "outputId": "b06963ba-f4e4-47ab-9ed5-c2a36102fc47"
      },
      "execution_count": null,
      "outputs": [
        {
          "output_type": "stream",
          "name": "stdout",
          "text": [
            "      0/ 200000: 3.2973\n",
            "  10000/ 200000: 2.1628\n",
            "  20000/ 200000: 2.4159\n",
            "  30000/ 200000: 2.0838\n",
            "  40000/ 200000: 1.7965\n",
            "  50000/ 200000: 2.0641\n",
            "  60000/ 200000: 1.8672\n",
            "  70000/ 200000: 2.3448\n",
            "  80000/ 200000: 2.7899\n",
            "  90000/ 200000: 2.0918\n",
            " 100000/ 200000: 2.1516\n",
            " 110000/ 200000: 2.1048\n",
            " 120000/ 200000: 2.3832\n",
            " 130000/ 200000: 1.8078\n",
            " 140000/ 200000: 2.0962\n",
            " 150000/ 200000: 2.0116\n",
            " 160000/ 200000: 1.9724\n",
            " 170000/ 200000: 2.3117\n",
            " 180000/ 200000: 1.9720\n",
            " 190000/ 200000: 1.6058\n"
          ]
        }
      ]
    },
    {
      "cell_type": "code",
      "source": [
        "plt.plot(torch.tensor(loss_track).view(-1, 1000).mean(1))"
      ],
      "metadata": {
        "colab": {
          "base_uri": "https://localhost:8080/",
          "height": 447
        },
        "id": "HiAUS2JMkUwn",
        "outputId": "cda0ad4b-acbb-4f63-f36e-be34f4836cc9"
      },
      "execution_count": null,
      "outputs": [
        {
          "output_type": "execute_result",
          "data": {
            "text/plain": [
              "[<matplotlib.lines.Line2D at 0x783f6d587250>]"
            ]
          },
          "metadata": {},
          "execution_count": 31
        },
        {
          "output_type": "display_data",
          "data": {
            "text/plain": [
              "<Figure size 640x480 with 1 Axes>"
            ],
            "image/png": "[encoded data removed]"
          },
          "metadata": {}
        }
      ]
    },
    {
      "cell_type": "code",
      "source": [
        "for layer in model.layers:\n",
        "    layer.training = False"
      ],
      "metadata": {
        "id": "u-oX3zz6GWE1"
      },
      "execution_count": null,
      "outputs": []
    },
    {
      "cell_type": "code",
      "source": [
        "@torch.no_grad()\n",
        "def split_loss(split):\n",
        "    x,y = {'train' : (X_tr, Y_tr),\n",
        "           'val' : (X_dev, Y_dev),\n",
        "           'test' : (X_te, Y_te)}[split]\n",
        "    logits = model(x)\n",
        "    loss = F.cross_entropy(logits,y)\n",
        "    print(split, loss.item())\n",
        "\n",
        "split_loss('train')\n",
        "split_loss('val')\n",
        "split_loss('test')"
      ],
      "metadata": {
        "colab": {
          "base_uri": "https://localhost:8080/"
        },
        "id": "Q6mq006O79ig",
        "outputId": "e6217f4d-67ae-4b6c-ead4-3570ffdd6a9c"
      },
      "execution_count": null,
      "outputs": [
        {
          "output_type": "stream",
          "name": "stdout",
          "text": [
            "train 1.7688896656036377\n",
            "val 1.989289402961731\n",
            "test 1.9921014308929443\n"
          ]
        }
      ]
    },
    {
      "cell_type": "markdown",
      "source": [
        "### Performance Log :\n",
        "1. original (3 character context + 200 hidden neurons, 12K params)\n",
        "    - train 2.0583250522613525\n",
        "    - val 2.1065292358398438\n",
        "    - test 2.104623556137085\n",
        "2. Modified context length (8 character context + 200 hidden neurons, 22K params)\n",
        "    - train 1.921517252922058\n",
        "    - val 2.029385805130005\n",
        "    - test 2.030794382095337\n",
        "3. Wavenet (10 emb neurons, 68 hidden neurons, 22K params)\n",
        "    - train 1.9124091863632202\n",
        "    - val 2.018151044845581\n",
        "    - test 2.0149097442626953\n",
        "\n",
        "3. Wavenet (24 emb neurons, 128 hidden neurons, 22K params)\n",
        "    - train 1.7688896656036377\n",
        "    - val 1.989289402961731\n",
        "    - test 1.9921014308929443"
      ],
      "metadata": {
        "id": "zg5Et0ylJCR9"
      }
    },
    {
      "cell_type": "code",
      "source": [
        "#Geenerate sample from model\n",
        "with torch.no_grad():\n",
        "    for i in range(20):\n",
        "        out = []\n",
        "        context = [0] * 8\n",
        "        while True:\n",
        "            logits = model(torch.tensor([context]))\n",
        "            probs = F.softmax(logits, dim=1)\n",
        "            ix = torch.multinomial(probs, num_samples = 1).item()\n",
        "            context = context[1:] + [ix]\n",
        "            out.append(ix)\n",
        "            if ix == 0:\n",
        "                break\n",
        "        print(''.join(itos[i] for i in out))"
      ],
      "metadata": {
        "colab": {
          "base_uri": "https://localhost:8080/"
        },
        "id": "NCdPtMyMFjH-",
        "outputId": "681cb91a-bf91-46d9-c3c6-1abe8b17a8c0"
      },
      "execution_count": null,
      "outputs": [
        {
          "output_type": "stream",
          "name": "stdout",
          "text": [
            "darorio.\n",
            "gracele.\n",
            "kenedop.\n",
            "tashra.\n",
            "dechasis.\n",
            "sias.\n",
            "aiden.\n",
            "camugan.\n",
            "deilia.\n",
            "charlie.\n",
            "aylen.\n",
            "kayai.\n",
            "xzaiva.\n",
            "keletti.\n",
            "jenni.\n",
            "jakyn.\n",
            "soneston.\n",
            "anaiaja.\n",
            "caetriondra.\n",
            "dillookar.\n"
          ]
        }
      ]
    },
    {
      "cell_type": "code",
      "source": [],
      "metadata": {
        "id": "SmqgYtKzQOf8"
      },
      "execution_count": null,
      "outputs": []
    },
    {
      "cell_type": "markdown",
      "source": [
        "# Logika Bagaimana Proses Wavenet"
      ],
      "metadata": {
        "id": "1stv2sKAJulu"
      }
    },
    {
      "cell_type": "code",
      "source": [
        "a = torch.arange(0,80).view((1,8,10))\n",
        "a"
      ],
      "metadata": {
        "colab": {
          "base_uri": "https://localhost:8080/"
        },
        "id": "ftE83MUvGrTu",
        "outputId": "2f0746c0-a8ba-41a6-c81c-76043615fd43"
      },
      "execution_count": null,
      "outputs": [
        {
          "output_type": "execute_result",
          "data": {
            "text/plain": [
              "tensor([[[ 0,  1,  2,  3,  4,  5,  6,  7,  8,  9],\n",
              "         [10, 11, 12, 13, 14, 15, 16, 17, 18, 19],\n",
              "         [20, 21, 22, 23, 24, 25, 26, 27, 28, 29],\n",
              "         [30, 31, 32, 33, 34, 35, 36, 37, 38, 39],\n",
              "         [40, 41, 42, 43, 44, 45, 46, 47, 48, 49],\n",
              "         [50, 51, 52, 53, 54, 55, 56, 57, 58, 59],\n",
              "         [60, 61, 62, 63, 64, 65, 66, 67, 68, 69],\n",
              "         [70, 71, 72, 73, 74, 75, 76, 77, 78, 79]]])"
            ]
          },
          "metadata": {},
          "execution_count": 17
        }
      ]
    },
    {
      "cell_type": "code",
      "source": [
        "a[:, ::2, :]"
      ],
      "metadata": {
        "colab": {
          "base_uri": "https://localhost:8080/"
        },
        "id": "FlvY74mlMyf-",
        "outputId": "78af5de9-245e-4b82-e916-5e8f98ab337f"
      },
      "execution_count": null,
      "outputs": [
        {
          "output_type": "execute_result",
          "data": {
            "text/plain": [
              "tensor([[[ 0,  1,  2,  3,  4,  5,  6,  7,  8,  9],\n",
              "         [20, 21, 22, 23, 24, 25, 26, 27, 28, 29],\n",
              "         [40, 41, 42, 43, 44, 45, 46, 47, 48, 49],\n",
              "         [60, 61, 62, 63, 64, 65, 66, 67, 68, 69]]])"
            ]
          },
          "metadata": {},
          "execution_count": 18
        }
      ]
    },
    {
      "cell_type": "code",
      "source": [
        "a[:, 1::2, :]"
      ],
      "metadata": {
        "colab": {
          "base_uri": "https://localhost:8080/"
        },
        "id": "RVYmNDHLM2E5",
        "outputId": "70dd4ff6-61fc-41cf-8072-e2edd738358e"
      },
      "execution_count": null,
      "outputs": [
        {
          "output_type": "execute_result",
          "data": {
            "text/plain": [
              "tensor([[[10, 11, 12, 13, 14, 15, 16, 17, 18, 19],\n",
              "         [30, 31, 32, 33, 34, 35, 36, 37, 38, 39],\n",
              "         [50, 51, 52, 53, 54, 55, 56, 57, 58, 59],\n",
              "         [70, 71, 72, 73, 74, 75, 76, 77, 78, 79]]])"
            ]
          },
          "metadata": {},
          "execution_count": 19
        }
      ]
    },
    {
      "cell_type": "code",
      "source": [
        "torch.cat((a[:, ::2] , a[:, ::2]), dim = 2)"
      ],
      "metadata": {
        "colab": {
          "base_uri": "https://localhost:8080/"
        },
        "id": "u1Ak1nUGM9Cg",
        "outputId": "18b76895-b3d2-485f-cb72-93081a3c83d5"
      },
      "execution_count": null,
      "outputs": [
        {
          "output_type": "execute_result",
          "data": {
            "text/plain": [
              "tensor([[[ 0,  1,  2,  3,  4,  5,  6,  7,  8,  9,  0,  1,  2,  3,  4,  5,  6,\n",
              "           7,  8,  9],\n",
              "         [20, 21, 22, 23, 24, 25, 26, 27, 28, 29, 20, 21, 22, 23, 24, 25, 26,\n",
              "          27, 28, 29],\n",
              "         [40, 41, 42, 43, 44, 45, 46, 47, 48, 49, 40, 41, 42, 43, 44, 45, 46,\n",
              "          47, 48, 49],\n",
              "         [60, 61, 62, 63, 64, 65, 66, 67, 68, 69, 60, 61, 62, 63, 64, 65, 66,\n",
              "          67, 68, 69]]])"
            ]
          },
          "metadata": {},
          "execution_count": 20
        }
      ]
    },
    {
      "cell_type": "code",
      "source": [
        "a.view(1,80)"
      ],
      "metadata": {
        "colab": {
          "base_uri": "https://localhost:8080/"
        },
        "id": "pFfGG6bDIL-F",
        "outputId": "bb18b37e-b024-4ec9-eaf9-8f39d409e56f"
      },
      "execution_count": null,
      "outputs": [
        {
          "output_type": "execute_result",
          "data": {
            "text/plain": [
              "tensor([[ 0,  1,  2,  3,  4,  5,  6,  7,  8,  9, 10, 11, 12, 13, 14, 15, 16, 17,\n",
              "         18, 19, 20, 21, 22, 23, 24, 25, 26, 27, 28, 29, 30, 31, 32, 33, 34, 35,\n",
              "         36, 37, 38, 39, 40, 41, 42, 43, 44, 45, 46, 47, 48, 49, 50, 51, 52, 53,\n",
              "         54, 55, 56, 57, 58, 59, 60, 61, 62, 63, 64, 65, 66, 67, 68, 69, 70, 71,\n",
              "         72, 73, 74, 75, 76, 77, 78, 79]])"
            ]
          },
          "metadata": {},
          "execution_count": 21
        }
      ]
    },
    {
      "cell_type": "markdown",
      "source": [
        "dimensi diubah menjadi (1,4,20) untuk membuat sebuah dimensi tensor yang isi elemennya 20 dimana merupakan 2 pasang karakter,\n",
        "4 merupakan jumlah pasangan karakter yang tercipta."
      ],
      "metadata": {
        "id": "CxUT7ug3KH2b"
      }
    },
    {
      "cell_type": "code",
      "source": [
        "a.view(1,4,20)"
      ],
      "metadata": {
        "colab": {
          "base_uri": "https://localhost:8080/"
        },
        "id": "gZFZMFnXIPs8",
        "outputId": "245180ba-eb57-4875-f01d-28fee99aa158"
      },
      "execution_count": null,
      "outputs": [
        {
          "output_type": "execute_result",
          "data": {
            "text/plain": [
              "tensor([[[ 0,  1,  2,  3,  4,  5,  6,  7,  8,  9, 10, 11, 12, 13, 14, 15, 16,\n",
              "          17, 18, 19],\n",
              "         [20, 21, 22, 23, 24, 25, 26, 27, 28, 29, 30, 31, 32, 33, 34, 35, 36,\n",
              "          37, 38, 39],\n",
              "         [40, 41, 42, 43, 44, 45, 46, 47, 48, 49, 50, 51, 52, 53, 54, 55, 56,\n",
              "          57, 58, 59],\n",
              "         [60, 61, 62, 63, 64, 65, 66, 67, 68, 69, 70, 71, 72, 73, 74, 75, 76,\n",
              "          77, 78, 79]]])"
            ]
          },
          "metadata": {},
          "execution_count": 22
        }
      ]
    },
    {
      "cell_type": "code",
      "source": [
        "w = torch.ones(size = (80,10), dtype=int)\n",
        "w.shape"
      ],
      "metadata": {
        "colab": {
          "base_uri": "https://localhost:8080/"
        },
        "id": "ea2et9u7IWfj",
        "outputId": "a9bc244a-f997-40a7-d419-0334a0059a5a"
      },
      "execution_count": null,
      "outputs": [
        {
          "output_type": "execute_result",
          "data": {
            "text/plain": [
              "torch.Size([80, 10])"
            ]
          },
          "metadata": {},
          "execution_count": 23
        }
      ]
    },
    {
      "cell_type": "code",
      "source": [
        "a.view(1,80) @ w"
      ],
      "metadata": {
        "colab": {
          "base_uri": "https://localhost:8080/"
        },
        "id": "VqAqu0e6Ik-A",
        "outputId": "bd81c53d-696b-4666-cf10-42b1dcfaaf80"
      },
      "execution_count": null,
      "outputs": [
        {
          "output_type": "execute_result",
          "data": {
            "text/plain": [
              "tensor([[3160, 3160, 3160, 3160, 3160, 3160, 3160, 3160, 3160, 3160]])"
            ]
          },
          "metadata": {},
          "execution_count": 24
        }
      ]
    },
    {
      "cell_type": "code",
      "source": [
        "w = torch.ones(size = (20,10), dtype=int)\n",
        "w.shape"
      ],
      "metadata": {
        "colab": {
          "base_uri": "https://localhost:8080/"
        },
        "id": "mJNfjPWjJRYE",
        "outputId": "99fe978c-0fa1-46bb-91bc-0aa4474170e1"
      },
      "execution_count": null,
      "outputs": [
        {
          "output_type": "execute_result",
          "data": {
            "text/plain": [
              "torch.Size([20, 10])"
            ]
          },
          "metadata": {},
          "execution_count": 25
        }
      ]
    },
    {
      "cell_type": "code",
      "source": [
        "a.view(1,4,20) @ w"
      ],
      "metadata": {
        "colab": {
          "base_uri": "https://localhost:8080/"
        },
        "id": "HoJgfMc1JMHu",
        "outputId": "e8ca293f-216d-4f42-ef0d-802c8c44ea59"
      },
      "execution_count": null,
      "outputs": [
        {
          "output_type": "execute_result",
          "data": {
            "text/plain": [
              "tensor([[[ 190,  190,  190,  190,  190,  190,  190,  190,  190,  190],\n",
              "         [ 590,  590,  590,  590,  590,  590,  590,  590,  590,  590],\n",
              "         [ 990,  990,  990,  990,  990,  990,  990,  990,  990,  990],\n",
              "         [1390, 1390, 1390, 1390, 1390, 1390, 1390, 1390, 1390, 1390]]])"
            ]
          },
          "metadata": {},
          "execution_count": 26
        }
      ]
    },
    {
      "cell_type": "markdown",
      "source": [
        "ketika dilakukan operasi dot product ke tensor w, operasinya hanya dilakukan pada dimensi terakhir, atau seakan2 terjadi 4 kali operasi perkalian matrix secara paralel untuk setiap kelompok pasangan karakter"
      ],
      "metadata": {
        "id": "5ezMy9bmKiow"
      }
    },
    {
      "cell_type": "code",
      "source": [
        "a.view(1,4,20)[0][1] @ w"
      ],
      "metadata": {
        "colab": {
          "base_uri": "https://localhost:8080/"
        },
        "id": "UOULEa3WJWVk",
        "outputId": "d8fd76de-1dc6-4529-dada-40a45442b76a"
      },
      "execution_count": null,
      "outputs": [
        {
          "output_type": "execute_result",
          "data": {
            "text/plain": [
              "tensor([590, 590, 590, 590, 590, 590, 590, 590, 590, 590])"
            ]
          },
          "metadata": {},
          "execution_count": 27
        }
      ]
    }
  ]
}